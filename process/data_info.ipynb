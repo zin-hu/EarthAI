{
 "cells": [
  {
   "cell_type": "markdown",
   "metadata": {},
   "source": [
    "### Data File Structure\n",
    "\n",
    "The hierarchical structure of an h5 file is as follows:\n",
    "  **file** -> **group** -> **dataset** -> **field**.\n",
    "\n",
    "It's important to note that all names are case-sensitive."
   ]
  },
  {
   "cell_type": "code",
   "execution_count": 2,
   "metadata": {},
   "outputs": [],
   "source": [
    "import h5py\n",
    "import pandas as pd"
   ]
  },
  {
   "cell_type": "markdown",
   "metadata": {},
   "source": [
    "#### Groups\n",
    "For the AIRS L1C Infrared data, we have five groups (or keys)."
   ]
  },
  {
   "cell_type": "code",
   "execution_count": 3,
   "metadata": {},
   "outputs": [
    {
     "name": "stdout",
     "output_type": "stream",
     "text": [
      "<HDF5 file \"0131.h5\" (mode r)>\n",
      "\t Channel:L1C_AIRS_Science\n",
      "\t GeoTrack:L1C_AIRS_Science\n",
      "\t GeoXTrack:L1C_AIRS_Science\n",
      "\t L1C_AIRS_Science\n",
      "\t Module:L1C_AIRS_Science\n"
     ]
    }
   ],
   "source": [
    "f = h5py.File(\"../data/0131.h5\")\n",
    "print(f)\n",
    "\n",
    "for k in f.keys():\n",
    "    print(\"\\t\", k)"
   ]
  },
  {
   "cell_type": "markdown",
   "metadata": {},
   "source": [
    "#### Datasets\n",
    "Within the \"L1C_AIRS_Science\" group, we find the necessary data within Geolocation Fields and Data Fields. "
   ]
  },
  {
   "cell_type": "code",
   "execution_count": 4,
   "metadata": {},
   "outputs": [
    {
     "name": "stdout",
     "output_type": "stream",
     "text": [
      "<HDF5 group \"/L1C_AIRS_Science\" (3 members)>\n",
      "\t Geolocation Fields\n",
      "\t Data Fields\n",
      "\t Swath Attributes\n"
     ]
    }
   ],
   "source": [
    "datasets = f['L1C_AIRS_Science']\n",
    "print(datasets)\n",
    "\n",
    "for d in datasets:\n",
    "    print(\"\\t\", d)"
   ]
  },
  {
   "cell_type": "markdown",
   "metadata": {},
   "source": [
    "#### Fields\n",
    "For image generation, we only need `radiances`. Note that fields could themselves be multidimentional arrays."
   ]
  },
  {
   "cell_type": "code",
   "execution_count": 5,
   "metadata": {},
   "outputs": [
    {
     "name": "stdout",
     "output_type": "stream",
     "text": [
      "<HDF5 group \"/L1C_AIRS_Science/Data Fields\" (65 members)>\n",
      "\t radiances\n",
      "\t scanang\n",
      "\t satheight_t\n",
      "\t satheight\n",
      "\t satroll_t\n",
      "\t satroll\n",
      "\t satpitch_t\n",
      "\t satpitch\n",
      "\t satyaw_t\n",
      "\t satyaw\n",
      "\t satzen\n",
      "\t satazi\n",
      "\t solzen\n",
      "\t solazi\n",
      "\t glintlat_t\n",
      "\t glintlat\n",
      "\t glintlon_t\n",
      "\t glintlon\n",
      "\t sun_glint_distance\n",
      "\t nadirTAI_t\n",
      "\t nadirTAI\n",
      "\t sat_lat_t\n",
      "\t sat_lat\n",
      "\t sat_lon_t\n",
      "\t sat_lon\n",
      "\t scan_node_type_t\n",
      "\t scan_node_type\n",
      "\t topog\n",
      "\t topog_err\n",
      "\t landFrac\n",
      "\t landFrac_err\n",
      "\t ftptgeoqa\n",
      "\t zengeoqa\n",
      "\t demgeoqa\n",
      "\t satgeoqa_t\n",
      "\t satgeoqa\n",
      "\t glintgeoqa_t\n",
      "\t glintgeoqa\n",
      "\t moongeoqa_t\n",
      "\t moongeoqa\n",
      "\t state\n",
      "\t Rdiff_swindow\n",
      "\t Rdiff_lwindow\n",
      "\t SceneInhomogeneous\n",
      "\t dust_flag\n",
      "\t dust_score\n",
      "\t spectral_clear_indicator\n",
      "\t BT_diff_SO2\n",
      "\t nominal_freq_t\n",
      "\t nominal_freq\n",
      "\t orbit_phase_deg_t\n",
      "\t orbit_phase_deg\n",
      "\t shift_y0\n",
      "\t Doppler_shift_ppm\n",
      "\t AB_Weight\n",
      "\t L1cProc\n",
      "\t L1cSynthReason\n",
      "\t NeN\n",
      "\t ChanID_t\n",
      "\t ChanID\n",
      "\t ChanMapL1b_t\n",
      "\t ChanMapL1b\n",
      "\t L1cNumSynth_t\n",
      "\t L1cNumSynth\n",
      "\t Inhomo850\n"
     ]
    }
   ],
   "source": [
    "fields = datasets['Data Fields']\n",
    "print(fields)\n",
    "\n",
    "for f in fields:\n",
    "    print(\"\\t\", f)"
   ]
  },
  {
   "cell_type": "markdown",
   "metadata": {},
   "source": [
    "### Radiances\n",
    "\n",
    "Over a six-minute time window for observations in each file, the instrument sweeps left-to-right 135 times, each time capturing 90 spectra. \n",
    "\n",
    "A spectrum has 2645 channels, which are listed in order of increasing wavenumbers. \n",
    "\n",
    "Note that radiances has type `>f4`, which means the datatype is a 4-byte floating point number stored in big-endian byte order. As most modern computers use little-endian, we need to convert them. "
   ]
  },
  {
   "cell_type": "code",
   "execution_count": 6,
   "metadata": {},
   "outputs": [
    {
     "name": "stdout",
     "output_type": "stream",
     "text": [
      "<HDF5 dataset \"radiances\": shape (135, 90, 2645), type \">f4\">\n"
     ]
    }
   ],
   "source": [
    "rad = fields['radiances']\n",
    "print(rad)"
   ]
  },
  {
   "cell_type": "markdown",
   "metadata": {},
   "source": [
    "### Geolocation and Timestamp\n",
    "\n",
    "Similarly, we could retrieve geo info and time from the datasets (or fields) accordingly. As the instrument capture a spectrum for each location, naturally, the dimension of these fields are 135 by 90. "
   ]
  },
  {
   "cell_type": "code",
   "execution_count": 7,
   "metadata": {},
   "outputs": [
    {
     "name": "stdout",
     "output_type": "stream",
     "text": [
      "<HDF5 group \"/L1C_AIRS_Science/Geolocation Fields\" (3 members)>\n",
      "\t Latitude\n",
      "\t Longitude\n",
      "\t Time\n"
     ]
    }
   ],
   "source": [
    "geo = datasets['Geolocation Fields']\n",
    "print(geo)\n",
    "for field in geo:\n",
    "    print(\"\\t\", field)"
   ]
  },
  {
   "cell_type": "code",
   "execution_count": 8,
   "metadata": {},
   "outputs": [
    {
     "name": "stdout",
     "output_type": "stream",
     "text": [
      "<HDF5 dataset \"Latitude\": shape (135, 90), type \">f8\">\n",
      "<HDF5 dataset \"Longitude\": shape (135, 90), type \">f8\">\n",
      "<HDF5 dataset \"Time\": shape (135, 90), type \">f8\">\n"
     ]
    }
   ],
   "source": [
    "lat = geo['Latitude']\n",
    "lon = geo['Longitude']\n",
    "time = geo['Time']\n",
    "\n",
    "print(lat)\n",
    "print(lon)\n",
    "print(time)"
   ]
  }
 ],
 "metadata": {
  "kernelspec": {
   "display_name": "Python 3",
   "language": "python",
   "name": "python3"
  },
  "language_info": {
   "codemirror_mode": {
    "name": "ipython",
    "version": 3
   },
   "file_extension": ".py",
   "mimetype": "text/x-python",
   "name": "python",
   "nbconvert_exporter": "python",
   "pygments_lexer": "ipython3",
   "version": "3.9.18"
  }
 },
 "nbformat": 4,
 "nbformat_minor": 2
}
