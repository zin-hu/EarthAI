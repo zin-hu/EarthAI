{
 "cells": [
  {
   "cell_type": "code",
   "execution_count": 2,
   "metadata": {},
   "outputs": [],
   "source": [
    "import h5py\n",
    "from PIL import Image\n"
   ]
  },
  {
   "cell_type": "code",
   "execution_count": 7,
   "metadata": {},
   "outputs": [],
   "source": [
    "with h5py.File('/home/hzin/earthAI/data/0131.h5', 'r') as file:\n",
    "    data = file['L1C_AIRS_Science']\n",
    "\n",
    "    rad = data['Data Fields']['radiances'][:]\n",
    "    lat = data['Geolocation Fields']['Latitude'][:]\n",
    "    lon = data['Geolocation Fields']['Longitude'][:]\n",
    "    time = data['Geolocation Fields']['Time'][:]\n",
    "\n",
    "    rad = rad.astype('float64').reshape(-1, 2645)"
   ]
  },
  {
   "cell_type": "code",
   "execution_count": 8,
   "metadata": {},
   "outputs": [],
   "source": [
    "img = Image.fromarray(rad)"
   ]
  },
  {
   "cell_type": "code",
   "execution_count": 9,
   "metadata": {},
   "outputs": [],
   "source": [
    "img.save('/home/hzin/earthAI/data/0131.tif')"
   ]
  }
 ],
 "metadata": {
  "kernelspec": {
   "display_name": ".venv",
   "language": "python",
   "name": "python3"
  },
  "language_info": {
   "codemirror_mode": {
    "name": "ipython",
    "version": 3
   },
   "file_extension": ".py",
   "mimetype": "text/x-python",
   "name": "python",
   "nbconvert_exporter": "python",
   "pygments_lexer": "ipython3",
   "version": "3.9.18"
  }
 },
 "nbformat": 4,
 "nbformat_minor": 2
}
