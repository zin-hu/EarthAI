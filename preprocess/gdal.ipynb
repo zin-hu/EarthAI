{
 "cells": [
  {
   "cell_type": "markdown",
   "metadata": {},
   "source": [
    "It is necessary to install `gdal` for the code below, either using `pip install gdal` (may not build on some systems) or using `apt-get install python3-gdal` and export paths as below.\n",
    "```bash\n",
    "export CPLUS_INCLUDE_PATH=/usr/include/gdal\n",
    "export C_INCLUDE_PATH=/usr/include/gdal\n",
    "```"
   ]
  },
  {
   "cell_type": "code",
   "execution_count": 87,
   "metadata": {},
   "outputs": [],
   "source": [
    "from osgeo import gdal\n",
    "f = gdal.Open('../data/0131.hdf')"
   ]
  },
  {
   "cell_type": "code",
   "execution_count": 88,
   "metadata": {},
   "outputs": [
    {
     "data": {
      "text/plain": [
       "{'AIRSGranuleNumber': '227',\n",
       " 'AIRSRunTag': '24031200512',\n",
       " 'ASSOCIATEDINSTRUMENTSHORTNAME.1': 'AIRS',\n",
       " 'ASSOCIATEDINSTRUMENTSHORTNAME.10': 'AIRS',\n",
       " 'ASSOCIATEDINSTRUMENTSHORTNAME.11': 'AIRS',\n",
       " 'ASSOCIATEDINSTRUMENTSHORTNAME.12': 'AIRS',\n",
       " 'ASSOCIATEDINSTRUMENTSHORTNAME.13': 'AIRS',\n",
       " 'ASSOCIATEDINSTRUMENTSHORTNAME.14': 'AIRS',\n",
       " 'ASSOCIATEDINSTRUMENTSHORTNAME.15': 'AIRS',\n",
       " 'ASSOCIATEDINSTRUMENTSHORTNAME.16': 'AIRS',\n",
       " 'ASSOCIATEDINSTRUMENTSHORTNAME.17': 'AIRS',\n",
       " 'ASSOCIATEDINSTRUMENTSHORTNAME.2': 'AIRS',\n",
       " 'ASSOCIATEDINSTRUMENTSHORTNAME.3': 'AIRS',\n",
       " 'ASSOCIATEDINSTRUMENTSHORTNAME.4': 'AIRS',\n",
       " 'ASSOCIATEDINSTRUMENTSHORTNAME.5': 'AIRS',\n",
       " 'ASSOCIATEDINSTRUMENTSHORTNAME.6': 'AIRS',\n",
       " 'ASSOCIATEDINSTRUMENTSHORTNAME.7': 'AIRS',\n",
       " 'ASSOCIATEDINSTRUMENTSHORTNAME.8': 'AIRS',\n",
       " 'ASSOCIATEDINSTRUMENTSHORTNAME.9': 'AIRS',\n",
       " 'ASSOCIATEDPLATFORMSHORTNAME.1': 'Aqua',\n",
       " 'ASSOCIATEDPLATFORMSHORTNAME.10': 'Aqua',\n",
       " 'ASSOCIATEDPLATFORMSHORTNAME.11': 'Aqua',\n",
       " 'ASSOCIATEDPLATFORMSHORTNAME.12': 'Aqua',\n",
       " 'ASSOCIATEDPLATFORMSHORTNAME.13': 'Aqua',\n",
       " 'ASSOCIATEDPLATFORMSHORTNAME.14': 'Aqua',\n",
       " 'ASSOCIATEDPLATFORMSHORTNAME.15': 'Aqua',\n",
       " 'ASSOCIATEDPLATFORMSHORTNAME.16': 'Aqua',\n",
       " 'ASSOCIATEDPLATFORMSHORTNAME.17': 'Aqua',\n",
       " 'ASSOCIATEDPLATFORMSHORTNAME.2': 'Aqua',\n",
       " 'ASSOCIATEDPLATFORMSHORTNAME.3': 'Aqua',\n",
       " 'ASSOCIATEDPLATFORMSHORTNAME.4': 'Aqua',\n",
       " 'ASSOCIATEDPLATFORMSHORTNAME.5': 'Aqua',\n",
       " 'ASSOCIATEDPLATFORMSHORTNAME.6': 'Aqua',\n",
       " 'ASSOCIATEDPLATFORMSHORTNAME.7': 'Aqua',\n",
       " 'ASSOCIATEDPLATFORMSHORTNAME.8': 'Aqua',\n",
       " 'ASSOCIATEDPLATFORMSHORTNAME.9': 'Aqua',\n",
       " 'ASSOCIATEDSENSORSHORTNAME.1': 'M1a Detector Array',\n",
       " 'ASSOCIATEDSENSORSHORTNAME.10': 'M5 Detector Array',\n",
       " 'ASSOCIATEDSENSORSHORTNAME.11': 'M6 Detector Array',\n",
       " 'ASSOCIATEDSENSORSHORTNAME.12': 'M7 Detector Array',\n",
       " 'ASSOCIATEDSENSORSHORTNAME.13': 'M8 Detector Array',\n",
       " 'ASSOCIATEDSENSORSHORTNAME.14': 'M9 Detector Array',\n",
       " 'ASSOCIATEDSENSORSHORTNAME.15': 'M10 Detector Array',\n",
       " 'ASSOCIATEDSENSORSHORTNAME.16': 'M11 Detector Array',\n",
       " 'ASSOCIATEDSENSORSHORTNAME.17': 'M12 Detector Array',\n",
       " 'ASSOCIATEDSENSORSHORTNAME.2': 'M1b Detector Array',\n",
       " 'ASSOCIATEDSENSORSHORTNAME.3': 'M2a Detector Array',\n",
       " 'ASSOCIATEDSENSORSHORTNAME.4': 'M2b Detector Array',\n",
       " 'ASSOCIATEDSENSORSHORTNAME.5': 'M3 Detector Array',\n",
       " 'ASSOCIATEDSENSORSHORTNAME.6': 'M4a Detector Array',\n",
       " 'ASSOCIATEDSENSORSHORTNAME.7': 'M4b Detector Array',\n",
       " 'ASSOCIATEDSENSORSHORTNAME.8': 'M4c Detector Array',\n",
       " 'ASSOCIATEDSENSORSHORTNAME.9': 'M4d Detector Array',\n",
       " 'AUTOMATICQUALITYFLAG.1': 'Passed',\n",
       " 'AUTOMATICQUALITYFLAGEXPLANATION.1': 'Based on percentage of product that is good. Suspect used where true quality is not known.',\n",
       " 'DAYNIGHTFLAG': 'Both',\n",
       " 'EASTBOUNDINGCOORDINATE': '-128.114410400391',\n",
       " 'EQUATORCROSSINGDATE.1': '2024-01-30',\n",
       " 'EQUATORCROSSINGLONGITUDE.1': '78.0966262817383',\n",
       " 'EQUATORCROSSINGTIME.1': '20:49:07.227560Z',\n",
       " 'HDFEOSVersion': 'HDFEOS_V2.18',\n",
       " 'INPUTPOINTER': 'ftp://localhost//data/.5kNTX5B9SOGXxsFi/Aqua_AIRS_NearRealTime/AIRIBRAD_NRT.005/2024/031/.hidden/AIRS.2024.01.31.227.L1B.AIRS_Rad.v5.0.25.0.R24031195016.hdf, ftp://localhost//data/.aO90JhQbMGoBZvbv/Calibration_Subsets/SNDRAQIML1BCALSUBSUM.2/2024/SNDR.AQUA.AIRS.20240130.D01.L1B_CALSUB_SUM.std.v02_52.G.240131163532.nc, ../AiL1C_AIRS/6.7.4.0/pge/static/L1C.airs_model_shift.2002.08.30.v1.0.1.anc, ../AiL1C_AIRS/6.7.4.0/pge/static/L1C.airs_model_shift.2003.11.19.v1.0.1.anc, ../AiL1C_AIRS/6.7.4.0/pge/static/L1C.airs_clean_param.v6.3.0.anc, ../AiL1C_AIRS/6.7.4.0/pge/static/L1C.airs_replace_stat.v1.0.0.anc, ../AiL1C_AIRS/6.7.4.0/pge/static/L1C.airs_pca.v4.0.0.anc, ../AiL1C_AIRS/6.7.4.0/pge/static/L1C.airs_resample.v1.0.0.anc, ../AiL1C_AIRS/6.7.4.0/pge/static/L1B.airs_cfg.2002.08.30.v9.6.2.anc, ../AiL1C_AIRS/6.7.4.0/pge/static/L1B.airs_cfg.2002.09.17.v9.6.2.anc, ../AiL1C_AIRS/6.7.4.0/pge/static/L1B.airs_cfg.2002.10.22.v9.6.2.anc, ../AiL1C_AIRS/6.7.4.0/pge/static/L1B.airs_cfg.2003.01.10.v9.6.2.anc, ../AiL1C_AIRS/6.7.4.0/pge/static/L1B.airs_cfg.2003.11.19.v9.6.2.anc, ../AiL1C_AIRS/6.7.4.0/pge/static/L1B.airs_cfg.2004.07.01.v9.6.2.anc, ../AiL1C_AIRS/6.7.4.0/pge/static/L1B.airs_cfg.2005.03.01.v9.6.2.anc, ../AiL1C_AIRS/6.7.4.0/pge/static/L1B.airs_cfg.2005.07.01.v9.6.2.anc, ../AiL1C_AIRS/6.7.4.0/pge/static/L1B.airs_cfg.2006.01.01.v9.6.2.anc, ../AiL1C_AIRS/6.7.4.0/pge/static/L1B.airs_cfg.2006.07.01.v9.6.2.anc, ../AiL1C_AIRS/6.7.4.0/pge/static/L1B.airs_cfg.2007.01.01.v9.6.2.anc, ../AiL1C_AIRS/6.7.4.0/pge/static/L1B.airs_cfg.2007.07.01.v9.6.2.anc, ../AiL1C_AIRS/6.7.4.0/pge/static/L1B.airs_cfg.2008.01.01.v9.6.2.anc, ../AiL1C_AIRS/6.7.4.0/pge/static/L1B.airs_cfg.2008.07.01.v9.6.2.anc, ../AiL1C_AIRS/6.7.4.0/pge/static/L1B.airs_cfg.2009.01.01.v9.6.2.anc, ../AiL1C_AIRS/6.7.4.0/pge/static/L1B.airs_cfg.2009.07.01.v9.6.2.anc, ../AiL1C_AIRS/6.7.4.0/pge/static/L1B.airs_cfg.2010.01.26.v9.6.2.anc, ../AiL1C_AIRS/6.7.4.0/pge/static/L1B.airs_cfg.2010.07.01.v9.6.2.anc, ../AiL1C_AIRS/6.7.4.0/pge/static/L1B.airs_cfg.2011.01.01.v9.6.2.anc, ../AiL1C_AIRS/6.7.4.0/pge/static/L1B.airs_cfg.2011.07.01.v9.6.2.anc, ../AiL1C_AIRS/6.7.4.0/pge/static/L1B.airs_cfg.2011.10.09.v9.6.2.anc, ../AiL1C_AIRS/6.7.4.0/pge/static/L1B.airs_cfg.2011.10.10.v9.6.2.anc, ../AiL1C_AIRS/6.7.4.0/pge/static/L1B.airs_cfg.2012.01.21.v9.6.2.anc, ../AiL1C_AIRS/6.7.4.0/pge/static/L1B.airs_cfg.2012.07.01.v9.6.2.anc, ../AiL1C_AIRS/6.7.4.0/pge/static/L1B.airs_cfg.2013.06.10.v9.6.2.anc, ../AiL1C_AIRS/6.7.4.0/pge/static/L1B.airs_cfg.2015.03.23.v9.6.2.anc, ../AiL1C_AIRS/6.7.4.0/pge/static/L1B.airs_cfg.2019.10.08.v9.6.2.anc, ../AiL1C_AIRS/6.7.4.0/pge/static/L1B.airs_focal_plane_map.v2.0.0.anc, ../AiL1C_AIRS/6.7.4.0/pge/static/L1B.spectral_feature.v3.0.0.anc, ../AiL1C_AIRS/6.7.4.0/pge/static/L1B.non_linear_corr.v2.0.0.anc, ../AiL1C_AIRS/6.7.4.0/pge/static/L1B.polarization_corr.v1.1.0.anc, ../AiL1C_AIRS/6.7.4.0/pge/static/L1B.non_linear_corr.2002.08.30.v3.0.0.anc, ../AiL1C_AIRS/6.7.4.0/pge/static/L1B.non_linear_corr.2002.10.22.v3.0.0.anc, ../AiL1C_AIRS/6.7.4.0/pge/static/L1B.non_linear_corr.2003.01.10.v3.0.0.anc, ../AiL1C_AIRS/6.7.4.0/pge/static/L1B.non_linear_corr.2003.11.19.v3.0.0.anc, ../AiL1C_AIRS/6.7.4.0/pge/static/L1B.polarization_corr.2002.08.30.v3.0.0.anc, ../AiL1C_AIRS/6.7.4.0/pge/static/L1B.polarization_corr.2002.10.22.v3.0.0.anc, ../AiL1C_AIRS/6.7.4.0/pge/static/L1B.polarization_corr.2003.01.10.v3.0.0.anc, ../AiL1C_AIRS/6.7.4.0/pge/static/L1B.polarization_corr.2003.11.19.v3.0.0.anc, ../AiL1C_AIRS/6.7.4.0/pge/static/L1B.airs_qa.2002.05.04.v9.0.0.anc, ../AiL1C_AIRS/6.7.4.0/pge/static/L1B.airs_qa.2002.07.09.v9.0.0.anc, ../AiL1C_AIRS/6.7.4.0/pge/static/L1B.airs_qa.2002.08.30.v9.0.0.anc, ../AiL1C_AIRS/6.7.4.0/pge/static/L1B.airs_qa.2002.09.17.v9.0.0.anc, ../AiL1C_AIRS/6.7.4.0/pge/static/L1B.airs_qa.2002.10.22.v9.0.0.anc, ../AiL1C_AIRS/6.7.4.0/pge/static/L1B.airs_qa.2003.01.10.v9.0.0.anc, ../AiL1C_AIRS/6.7.4.0/pge/static/L1B.airs_baseline_nedt.v1.0.0.txt, ../AiL1C_AIRS/6.7.4.0/pge/static/L1C.airs_clean_pcmargin.v1.0.0.anc',\n",
       " 'LatGranuleCen': '65',\n",
       " 'LOCALGRANULEID': 'AIRS.2024.01.31.227.L1C.AIRS_Rad.v6.7.5.0.R24031200512.hdf',\n",
       " 'LOCALVERSIONID': 'Unspecified',\n",
       " 'LocTimeGranuleCen': '755',\n",
       " 'LonGranuleCen': '-149',\n",
       " 'NodeType': 'Ascending',\n",
       " 'NORTHBOUNDINGCOORDINATE': '77.5224380493164',\n",
       " 'NumBadData': '0',\n",
       " 'NumFpe': '0',\n",
       " 'NumGeoQA': '1',\n",
       " 'NumLandSurface': '4884',\n",
       " 'NumMissingData': '0',\n",
       " 'NumOceanSurface': '5657',\n",
       " 'NumProcessData': '12150',\n",
       " 'NumSpecialData': '0',\n",
       " 'NumSunGlint': '0',\n",
       " 'NumTotalData': '12150',\n",
       " 'OPERATIONMODE.1': 'Normal',\n",
       " 'OPERATIONMODE.10': 'Normal',\n",
       " 'OPERATIONMODE.11': 'Normal',\n",
       " 'OPERATIONMODE.12': 'Normal',\n",
       " 'OPERATIONMODE.13': 'Normal',\n",
       " 'OPERATIONMODE.14': 'Normal',\n",
       " 'OPERATIONMODE.15': 'Normal',\n",
       " 'OPERATIONMODE.16': 'Normal',\n",
       " 'OPERATIONMODE.17': 'Normal',\n",
       " 'OPERATIONMODE.2': 'Normal',\n",
       " 'OPERATIONMODE.3': 'Normal',\n",
       " 'OPERATIONMODE.4': 'Normal',\n",
       " 'OPERATIONMODE.5': 'Normal',\n",
       " 'OPERATIONMODE.6': 'Normal',\n",
       " 'OPERATIONMODE.7': 'Normal',\n",
       " 'OPERATIONMODE.8': 'Normal',\n",
       " 'OPERATIONMODE.9': 'Normal',\n",
       " 'OrbitPath': '126',\n",
       " 'PARAMETERNAME.1': 'InfraRed Radiances',\n",
       " 'PGEVERSION': '6.7.5.0',\n",
       " 'ProductGenerationFacility': 'R',\n",
       " 'ProductGenerationHostInformation': 'gs6102dsc-ac19 Linux 4.18.0-513.11.1.el8_9.x86_64 #1_SMP_Thu_Dec_7_03:06:13_EST_2023 x86_64',\n",
       " 'PRODUCTIONDATETIME': '2024-02-01T01:05:12.000Z',\n",
       " 'QAPERCENTMISSINGDATA.1': '0',\n",
       " 'RANGEBEGINNINGDATE': '2024-01-31',\n",
       " 'RANGEBEGINNINGTIME': '22:41:21.000000Z',\n",
       " 'RANGEENDINGDATE': '2024-01-31',\n",
       " 'RANGEENDINGTIME': '22:47:20.999999Z',\n",
       " 'ScanLineCount': '135',\n",
       " 'SHORTNAME': 'AIRICRAD_NRT',\n",
       " 'SOUTHBOUNDINGCOORDINATE': '52.0969047546387',\n",
       " 'SP_ENDING_ROW': '-1',\n",
       " 'SP_STARTING_PATH': '126',\n",
       " 'SP_STARTING_ROW': '-1',\n",
       " 'STARTORBITNUMBER.1': '115672',\n",
       " 'STOPORBITNUMBER.1': '115672',\n",
       " 'VERSIONID': '6.7',\n",
       " 'WESTBOUNDINGCOORDINATE': '176.840484619141'}"
      ]
     },
     "execution_count": 88,
     "metadata": {},
     "output_type": "execute_result"
    }
   ],
   "source": [
    "f.GetMetadata()"
   ]
  },
  {
   "cell_type": "markdown",
   "metadata": {},
   "source": [
    "Getting the metadata works. However, our data is not a classic raster data with bands and all. No layers, bands, projection information from `gdal`."
   ]
  },
  {
   "cell_type": "code",
   "execution_count": 89,
   "metadata": {},
   "outputs": [
    {
     "name": "stdout",
     "output_type": "stream",
     "text": [
      "'ds' type <class 'osgeo.gdal.Dataset'>\n",
      "Projection:  \n",
      "Columns: 512\n",
      "Rows: 512\n",
      "Band count: 0\n",
      "GeoTransform (0.0, 1.0, 0.0, 0.0, 0.0, 1.0)\n"
     ]
    }
   ],
   "source": [
    "print(\"'ds' type\", type(f))\n",
    "print(\"Projection: \", f.GetProjection())  # get projection\n",
    "print(\"Columns:\", f.RasterXSize)  # number of columns\n",
    "print(\"Rows:\", f.RasterYSize)  # number of rows\n",
    "print(\"Band count:\", f.RasterCount)  # number of bands\n",
    "print(\"GeoTransform\", f.GetGeoTransform())"
   ]
  },
  {
   "cell_type": "code",
   "execution_count": 90,
   "metadata": {},
   "outputs": [
    {
     "name": "stdout",
     "output_type": "stream",
     "text": [
      "Driver: HDF4/Hierarchical Data Format Release 4\n",
      "Size is 512 x 512 x 0\n",
      "Projection is \n",
      "Origin = (0.0, 0.0)\n",
      "Pixel Size = (1.0, 1.0)\n"
     ]
    }
   ],
   "source": [
    "print(\"Driver: {}/{}\".format(f.GetDriver().ShortName,\n",
    "                            f.GetDriver().LongName))\n",
    "print(\"Size is {} x {} x {}\".format(f.RasterXSize,\n",
    "                                    f.RasterYSize,\n",
    "                                    f.RasterCount))\n",
    "print(\"Projection is {}\".format(f.GetProjection()))\n",
    "geotransform = f.GetGeoTransform()\n",
    "if geotransform:\n",
    "    print(\"Origin = ({}, {})\".format(geotransform[0], geotransform[3]))\n",
    "    print(\"Pixel Size = ({}, {})\".format(geotransform[1], geotransform[5]))"
   ]
  },
  {
   "cell_type": "code",
   "execution_count": 91,
   "metadata": {},
   "outputs": [
    {
     "ename": "AttributeError",
     "evalue": "'NoneType' object has no attribute 'ReadAsArray'",
     "output_type": "error",
     "traceback": [
      "\u001b[0;31m---------------------------------------------------------------------------\u001b[0m",
      "\u001b[0;31mAttributeError\u001b[0m                            Traceback (most recent call last)",
      "Cell \u001b[0;32mIn[91], line 1\u001b[0m\n\u001b[0;32m----> 1\u001b[0m data_array \u001b[38;5;241m=\u001b[39m \u001b[43mf\u001b[49m\u001b[38;5;241;43m.\u001b[39;49m\u001b[43mGetRasterBand\u001b[49m\u001b[43m(\u001b[49m\u001b[38;5;241;43m1\u001b[39;49m\u001b[43m)\u001b[49m\u001b[38;5;241;43m.\u001b[39;49m\u001b[43mReadAsArray\u001b[49m()\n",
      "\u001b[0;31mAttributeError\u001b[0m: 'NoneType' object has no attribute 'ReadAsArray'"
     ]
    }
   ],
   "source": [
    "data_array = f.GetRasterBand(1).ReadAsArray()"
   ]
  },
  {
   "cell_type": "markdown",
   "metadata": {},
   "source": [
    "Among the subdatasets, we could find radiances, but not geolocation information including latitude and longitude, nor time. All of the three should be 2D arrays with size 135x90."
   ]
  },
  {
   "cell_type": "code",
   "execution_count": 92,
   "metadata": {},
   "outputs": [
    {
     "data": {
      "text/plain": [
       "[('HDF4_EOS:EOS_SWATH:\"../data/0131.hdf\":L1C_AIRS_Science:radiances',\n",
       "  '[135x90x2645] radiances L1C_AIRS_Science (32-bit floating-point)'),\n",
       " ('HDF4_EOS:EOS_SWATH:\"../data/0131.hdf\":L1C_AIRS_Science:scanang',\n",
       "  '[135x90] scanang L1C_AIRS_Science (32-bit floating-point)'),\n",
       " ('HDF4_EOS:EOS_SWATH:\"../data/0131.hdf\":L1C_AIRS_Science:satzen',\n",
       "  '[135x90] satzen L1C_AIRS_Science (32-bit floating-point)'),\n",
       " ('HDF4_EOS:EOS_SWATH:\"../data/0131.hdf\":L1C_AIRS_Science:satazi',\n",
       "  '[135x90] satazi L1C_AIRS_Science (32-bit floating-point)'),\n",
       " ('HDF4_EOS:EOS_SWATH:\"../data/0131.hdf\":L1C_AIRS_Science:solzen',\n",
       "  '[135x90] solzen L1C_AIRS_Science (32-bit floating-point)'),\n",
       " ('HDF4_EOS:EOS_SWATH:\"../data/0131.hdf\":L1C_AIRS_Science:solazi',\n",
       "  '[135x90] solazi L1C_AIRS_Science (32-bit floating-point)'),\n",
       " ('HDF4_EOS:EOS_SWATH:\"../data/0131.hdf\":L1C_AIRS_Science:sun_glint_distance',\n",
       "  '[135x90] sun_glint_distance L1C_AIRS_Science (16-bit integer)'),\n",
       " ('HDF4_EOS:EOS_SWATH:\"../data/0131.hdf\":L1C_AIRS_Science:topog',\n",
       "  '[135x90] topog L1C_AIRS_Science (32-bit floating-point)'),\n",
       " ('HDF4_EOS:EOS_SWATH:\"../data/0131.hdf\":L1C_AIRS_Science:topog_err',\n",
       "  '[135x90] topog_err L1C_AIRS_Science (32-bit floating-point)'),\n",
       " ('HDF4_EOS:EOS_SWATH:\"../data/0131.hdf\":L1C_AIRS_Science:landFrac',\n",
       "  '[135x90] landFrac L1C_AIRS_Science (32-bit floating-point)'),\n",
       " ('HDF4_EOS:EOS_SWATH:\"../data/0131.hdf\":L1C_AIRS_Science:landFrac_err',\n",
       "  '[135x90] landFrac_err L1C_AIRS_Science (32-bit floating-point)'),\n",
       " ('HDF4_EOS:EOS_SWATH:\"../data/0131.hdf\":L1C_AIRS_Science:ftptgeoqa',\n",
       "  '[135x90] ftptgeoqa L1C_AIRS_Science (32-bit unsigned integer)'),\n",
       " ('HDF4_EOS:EOS_SWATH:\"../data/0131.hdf\":L1C_AIRS_Science:zengeoqa',\n",
       "  '[135x90] zengeoqa L1C_AIRS_Science (16-bit unsigned integer)'),\n",
       " ('HDF4_EOS:EOS_SWATH:\"../data/0131.hdf\":L1C_AIRS_Science:demgeoqa',\n",
       "  '[135x90] demgeoqa L1C_AIRS_Science (16-bit unsigned integer)'),\n",
       " ('HDF4_EOS:EOS_SWATH:\"../data/0131.hdf\":L1C_AIRS_Science:state',\n",
       "  '[135x90] state L1C_AIRS_Science (32-bit integer)'),\n",
       " ('HDF4_EOS:EOS_SWATH:\"../data/0131.hdf\":L1C_AIRS_Science:Rdiff_swindow',\n",
       "  '[135x90] Rdiff_swindow L1C_AIRS_Science (32-bit floating-point)'),\n",
       " ('HDF4_EOS:EOS_SWATH:\"../data/0131.hdf\":L1C_AIRS_Science:Rdiff_lwindow',\n",
       "  '[135x90] Rdiff_lwindow L1C_AIRS_Science (32-bit floating-point)'),\n",
       " ('HDF4_EOS:EOS_SWATH:\"../data/0131.hdf\":L1C_AIRS_Science:SceneInhomogeneous',\n",
       "  '[135x90] SceneInhomogeneous L1C_AIRS_Science (8-bit unsigned integer)'),\n",
       " ('HDF4_EOS:EOS_SWATH:\"../data/0131.hdf\":L1C_AIRS_Science:dust_flag',\n",
       "  '[135x90] dust_flag L1C_AIRS_Science (16-bit integer)'),\n",
       " ('HDF4_EOS:EOS_SWATH:\"../data/0131.hdf\":L1C_AIRS_Science:dust_score',\n",
       "  '[135x90] dust_score L1C_AIRS_Science (16-bit integer)'),\n",
       " ('HDF4_EOS:EOS_SWATH:\"../data/0131.hdf\":L1C_AIRS_Science:spectral_clear_indicator',\n",
       "  '[135x90] spectral_clear_indicator L1C_AIRS_Science (16-bit integer)'),\n",
       " ('HDF4_EOS:EOS_SWATH:\"../data/0131.hdf\":L1C_AIRS_Science:BT_diff_SO2',\n",
       "  '[135x90] BT_diff_SO2 L1C_AIRS_Science (32-bit floating-point)'),\n",
       " ('HDF4_EOS:EOS_SWATH:\"../data/0131.hdf\":L1C_AIRS_Science:shift_y0',\n",
       "  '[135x17] shift_y0 L1C_AIRS_Science (32-bit floating-point)'),\n",
       " ('HDF4_EOS:EOS_SWATH:\"../data/0131.hdf\":L1C_AIRS_Science:Doppler_shift_ppm',\n",
       "  '[135x90] Doppler_shift_ppm L1C_AIRS_Science (32-bit floating-point)'),\n",
       " ('HDF4_EOS:EOS_SWATH:\"../data/0131.hdf\":L1C_AIRS_Science:AB_Weight',\n",
       "  '[135x90x2645] AB_Weight L1C_AIRS_Science (8-bit integer)'),\n",
       " ('HDF4_EOS:EOS_SWATH:\"../data/0131.hdf\":L1C_AIRS_Science:L1cProc',\n",
       "  '[135x90x2645] L1cProc L1C_AIRS_Science (8-bit unsigned integer)'),\n",
       " ('HDF4_EOS:EOS_SWATH:\"../data/0131.hdf\":L1C_AIRS_Science:L1cSynthReason',\n",
       "  '[135x90x2645] L1cSynthReason L1C_AIRS_Science (8-bit unsigned integer)'),\n",
       " ('HDF4_EOS:EOS_SWATH:\"../data/0131.hdf\":L1C_AIRS_Science:NeN',\n",
       "  '[135x90x2645] NeN L1C_AIRS_Science (32-bit floating-point)'),\n",
       " ('HDF4_EOS:EOS_SWATH:\"../data/0131.hdf\":L1C_AIRS_Science:Inhomo850',\n",
       "  '[135x90] Inhomo850 L1C_AIRS_Science (32-bit floating-point)')]"
      ]
     },
     "execution_count": 92,
     "metadata": {},
     "output_type": "execute_result"
    }
   ],
   "source": [
    "f.GetSubDatasets()"
   ]
  },
  {
   "cell_type": "code",
   "execution_count": 93,
   "metadata": {},
   "outputs": [
    {
     "data": {
      "text/plain": [
       "array([[[4.87381363e+01, 4.97418594e+01, 4.92623367e+01, ...,\n",
       "         2.91861951e-01, 2.93189764e-01, 2.89436787e-01],\n",
       "        [4.84533043e+01, 4.92636070e+01, 5.02469215e+01, ...,\n",
       "         2.17256114e-01, 2.20819712e-01, 2.11136296e-01],\n",
       "        [4.87467461e+01, 4.94835815e+01, 4.90431747e+01, ...,\n",
       "         2.17728987e-01, 2.17840418e-01, 2.16097727e-01],\n",
       "        ...,\n",
       "        [4.55192146e+01, 4.74843102e+01, 4.57535591e+01, ...,\n",
       "         8.98296088e-02, 8.73484910e-02, 8.69715959e-02],\n",
       "        [4.55038376e+01, 4.64851379e+01, 4.55226402e+01, ...,\n",
       "         1.03990264e-01, 1.01502538e-01, 1.00108139e-01],\n",
       "        [4.59744606e+01, 4.64996567e+01, 4.65012321e+01, ...,\n",
       "         1.58180982e-01, 1.58249259e-01, 1.59164071e-01]],\n",
       "\n",
       "       [[4.92013626e+01, 4.84931679e+01, 4.85151482e+01, ...,\n",
       "         3.58707249e-01, 3.56596053e-01, 3.50922883e-01],\n",
       "        [4.74814606e+01, 4.90044556e+01, 4.92540970e+01, ...,\n",
       "         2.23079637e-01, 2.25261018e-01, 2.22216144e-01],\n",
       "        [4.89828377e+01, 4.94874649e+01, 4.85000420e+01, ...,\n",
       "         2.21149251e-01, 2.19705045e-01, 2.14015484e-01],\n",
       "        ...,\n",
       "        [4.47552490e+01, 4.59864960e+01, 4.47592545e+01, ...,\n",
       "         1.05942331e-01, 1.07479855e-01, 1.04747988e-01],\n",
       "        [4.52150650e+01, 4.60100594e+01, 4.70016365e+01, ...,\n",
       "         9.57035646e-02, 9.46753621e-02, 9.06829610e-02],\n",
       "        [4.59728546e+01, 4.65011330e+01, 4.67554131e+01, ...,\n",
       "         1.50861889e-01, 1.52397066e-01, 1.48132965e-01]],\n",
       "\n",
       "       [[4.74684410e+01, 4.85092163e+01, 5.00425491e+01, ...,\n",
       "         3.42095852e-01, 3.37011814e-01, 3.37733805e-01],\n",
       "        [4.94964142e+01, 5.09903107e+01, 4.94735413e+01, ...,\n",
       "         2.62123585e-01, 2.61791855e-01, 2.55319297e-01],\n",
       "        [4.87383614e+01, 4.84749832e+01, 4.75427246e+01, ...,\n",
       "         2.20649734e-01, 2.17728630e-01, 2.14181811e-01],\n",
       "        ...,\n",
       "        [4.59946938e+01, 4.74960403e+01, 4.67433624e+01, ...,\n",
       "         1.43986583e-01, 1.39624134e-01, 1.43810481e-01],\n",
       "        [4.54887581e+01, 4.67488213e+01, 4.67606392e+01, ...,\n",
       "         9.56866071e-02, 9.57261771e-02, 9.46333185e-02],\n",
       "        [4.47380371e+01, 4.65045280e+01, 4.64917450e+01, ...,\n",
       "         1.30368441e-01, 1.32894561e-01, 1.31660894e-01]],\n",
       "\n",
       "       ...,\n",
       "\n",
       "       [[4.64828606e+01, 4.77495041e+01, 4.74967461e+01, ...,\n",
       "         2.68353485e-02, 2.63909176e-02, 2.78903097e-02],\n",
       "        [4.74772224e+01, 4.74852562e+01, 4.65048637e+01, ...,\n",
       "         3.70938443e-02, 3.51199359e-02, 3.67837884e-02],\n",
       "        [4.64332199e+01, 4.60089836e+01, 4.64781303e+01, ...,\n",
       "         3.61181349e-02, 3.61569673e-02, 3.60900573e-02],\n",
       "        ...,\n",
       "        [4.69603348e+01, 4.59862480e+01, 4.55176620e+01, ...,\n",
       "         5.95514849e-02, 5.70691526e-02, 5.66981286e-02],\n",
       "        [4.54770317e+01, 4.59956169e+01, 4.60175247e+01, ...,\n",
       "         5.95683344e-02, 5.95664531e-02, 5.80189265e-02],\n",
       "        [4.54918518e+01, 4.69960785e+01, 4.59777451e+01, ...,\n",
       "         6.24740757e-02, 5.75052761e-02, 6.04069829e-02]],\n",
       "\n",
       "       [[4.79004288e+01, 4.60113678e+01, 4.75034866e+01, ...,\n",
       "         2.87976470e-02, 2.83162482e-02, 2.78014690e-02],\n",
       "        [4.64507141e+01, 4.65049477e+01, 4.69996185e+01, ...,\n",
       "         4.19827774e-02, 4.14831713e-02, 3.89251783e-02],\n",
       "        [4.62673988e+01, 4.79818802e+01, 4.65105286e+01, ...,\n",
       "         3.61222811e-02, 3.46351191e-02, 3.52432914e-02],\n",
       "        ...,\n",
       "        [4.62620316e+01, 4.69712029e+01, 4.44984322e+01, ...,\n",
       "         5.90861626e-02, 6.05912171e-02, 5.94442785e-02],\n",
       "        [4.59640121e+01, 4.59985390e+01, 4.65247955e+01, ...,\n",
       "         5.81045896e-02, 5.76083884e-02, 5.81587106e-02],\n",
       "        [4.64386063e+01, 4.49962883e+01, 4.57820587e+01, ...,\n",
       "         6.20042905e-02, 5.99862263e-02, 5.75698540e-02]],\n",
       "\n",
       "       [[4.74512787e+01, 4.75030479e+01, 4.74823914e+01, ...,\n",
       "         3.46459076e-02, 3.11630201e-02, 3.19081880e-02],\n",
       "        [4.64635582e+01, 4.75097771e+01, 4.79895554e+01, ...,\n",
       "         4.58605066e-02, 4.29320075e-02, 4.51095924e-02],\n",
       "        [4.67403908e+01, 4.72344666e+01, 4.65254822e+01, ...,\n",
       "         3.71095128e-02, 3.81180719e-02, 3.69948186e-02],\n",
       "        ...,\n",
       "        [4.59662209e+01, 4.65019455e+01, 4.64920120e+01, ...,\n",
       "         6.15032576e-02, 5.85327707e-02, 6.02537319e-02],\n",
       "        [4.64398460e+01, 4.60068130e+01, 4.64865990e+01, ...,\n",
       "         6.10211529e-02, 5.90541512e-02, 6.17366210e-02],\n",
       "        [4.60212669e+01, 4.79814835e+01, 4.59931030e+01, ...,\n",
       "         6.20030575e-02, 5.95078394e-02, 6.07175417e-02]]], dtype=float32)"
      ]
     },
     "execution_count": 93,
     "metadata": {},
     "output_type": "execute_result"
    }
   ],
   "source": [
    "radiances = gdal.Open('HDF4_EOS:EOS_SWATH:\"../data/0131.hdf\":L1C_AIRS_Science:radiances')\n",
    "rad = radiances.ReadAsArray()\n",
    "(rad.min(), rad.max(), rad.mean(), rad.std())\n",
    "rad"
   ]
  },
  {
   "cell_type": "markdown",
   "metadata": {},
   "source": [
    "The code above read radiances as an array, and the code below write this array as parquet."
   ]
  },
  {
   "cell_type": "code",
   "execution_count": null,
   "metadata": {},
   "outputs": [],
   "source": [
    "import pyarrow as pa\n",
    "import pyarrow.parquet as pq\n",
    "\n",
    "pa_table = pa.table({\"data\": rad[0, 0]})\n",
    "pq.write_table(pa_table, \"../data/0131.01.parquet\")"
   ]
  }
 ],
 "metadata": {
  "kernelspec": {
   "display_name": "Python 3",
   "language": "python",
   "name": "python3"
  },
  "language_info": {
   "codemirror_mode": {
    "name": "ipython",
    "version": 3
   },
   "file_extension": ".py",
   "mimetype": "text/x-python",
   "name": "python",
   "nbconvert_exporter": "python",
   "pygments_lexer": "ipython3",
   "version": "3.10.12"
  }
 },
 "nbformat": 4,
 "nbformat_minor": 2
}
