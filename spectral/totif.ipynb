{
 "cells": [
  {
   "cell_type": "code",
   "execution_count": 2,
   "metadata": {},
   "outputs": [],
   "source": [
    "import numpy as np\n",
    "import matplotlib.pyplot as plt\n",
    "from scipy.interpolate import griddata\n",
    "import tifffile"
   ]
  },
  {
   "cell_type": "code",
   "execution_count": 9,
   "metadata": {},
   "outputs": [
    {
     "name": "stdout",
     "output_type": "stream",
     "text": [
      "(58515, 4)\n"
     ]
    }
   ],
   "source": [
    "data = np.loadtxt('/home/hzin/earthAI/spectral/data/2014-01-02.txt')\n",
    "print(data.shape)"
   ]
  },
  {
   "cell_type": "code",
   "execution_count": 10,
   "metadata": {},
   "outputs": [
    {
     "name": "stdout",
     "output_type": "stream",
     "text": [
      "20.000359 41.9996 -104.99896 -85.00069\n"
     ]
    }
   ],
   "source": [
    "lat, lon = data[:, 0], data[:, 1]\n",
    "min_lat = min(lat)\n",
    "max_lat = max(lat)\n",
    "min_lon = min(lon)\n",
    "max_lon = max(lon)\n",
    "print(min_lat, max_lat, min_lon, max_lon)"
   ]
  },
  {
   "cell_type": "code",
   "execution_count": 12,
   "metadata": {},
   "outputs": [
    {
     "name": "stdout",
     "output_type": "stream",
     "text": [
      "(400, 440) (400, 440)\n"
     ]
    }
   ],
   "source": [
    "resolution = 0.05\n",
    "grid_lat, grid_lon = np.meshgrid(\n",
    "    np.arange(min_lat, max_lat, resolution),\n",
    "    np.arange(min_lon, max_lon, resolution)\n",
    ")\n",
    "print(grid_lat.shape, grid_lon.shape)"
   ]
  },
  {
   "cell_type": "code",
   "execution_count": 13,
   "metadata": {},
   "outputs": [
    {
     "name": "stdout",
     "output_type": "stream",
     "text": [
      "(400, 440) (400, 440) (400, 440)\n"
     ]
    }
   ],
   "source": [
    "d0 = griddata(\n",
    "        data[data[:, 3] == 0, :2],\n",
    "        data[data[:, 3] == 0, 2],\n",
    "        (grid_lat, grid_lon),\n",
    "        method='nearest'\n",
    "    )\n",
    "d1 = griddata(\n",
    "        data[data[:, 3] == 1, :2],\n",
    "        data[data[:, 3] == 1, 2],\n",
    "        (grid_lat, grid_lon),\n",
    "        method='nearest'\n",
    "    )\n",
    "d2 = griddata(\n",
    "        data[data[:, 3] == 2, :2],\n",
    "        data[data[:, 3] == 2, 2],\n",
    "        (grid_lat, grid_lon),\n",
    "        method='nearest'\n",
    "    )\n",
    "print(d0.shape, d1.shape, d2.shape)"
   ]
  },
  {
   "cell_type": "code",
   "execution_count": 25,
   "metadata": {},
   "outputs": [
    {
     "name": "stdout",
     "output_type": "stream",
     "text": [
      "(3, 400, 440)\n",
      "<class 'numpy.ndarray'>\n"
     ]
    }
   ],
   "source": [
    "dstack = np.stack((d0, d1, d2))\n",
    "print(dstack.shape)\n",
    "print(type(dstack))\n"
   ]
  },
  {
   "cell_type": "code",
   "execution_count": 26,
   "metadata": {},
   "outputs": [
    {
     "name": "stdout",
     "output_type": "stream",
     "text": [
      "(400, 440)\n"
     ]
    }
   ],
   "source": [
    "mean_array = np.mean(dstack, axis=0)\n",
    "\n",
    "# Round the mean values to integers\n",
    "d = np.round(mean_array).astype(int)\n",
    "\n",
    "print(d.shape)  # Output: (grid_lat.shape, grid_lon.shape)\n"
   ]
  },
  {
   "cell_type": "code",
   "execution_count": 29,
   "metadata": {},
   "outputs": [],
   "source": [
    "# Save the combined grid to a TIFF file\n",
    "output_tiff_file = \"data/2014-01-02.tiff\"\n",
    "tifffile.imwrite(output_tiff_file, d)"
   ]
  },
  {
   "cell_type": "code",
   "execution_count": 4,
   "metadata": {},
   "outputs": [
    {
     "name": "stdout",
     "output_type": "stream",
     "text": [
      "(400, 440)\n"
     ]
    }
   ],
   "source": [
    "input_data = tifffile.imread(\"output/2014-01-02.tif\")\n",
    "print(input_data.shape)"
   ]
  }
 ],
 "metadata": {
  "kernelspec": {
   "display_name": ".venv",
   "language": "python",
   "name": "python3"
  },
  "language_info": {
   "codemirror_mode": {
    "name": "ipython",
    "version": 3
   },
   "file_extension": ".py",
   "mimetype": "text/x-python",
   "name": "python",
   "nbconvert_exporter": "python",
   "pygments_lexer": "ipython3",
   "version": "3.9.18"
  }
 },
 "nbformat": 4,
 "nbformat_minor": 2
}
