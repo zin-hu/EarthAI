{
 "cells": [
  {
   "cell_type": "code",
   "execution_count": 12,
   "metadata": {},
   "outputs": [],
   "source": [
    "import os\n",
    "import argparse\n",
    "import h5py\n",
    "import pandas as pd\n",
    "import numpy as np\n",
    "from datetime import datetime, timedelta"
   ]
  },
  {
   "cell_type": "code",
   "execution_count": 20,
   "metadata": {},
   "outputs": [],
   "source": [
    "def save_spec(input_file, output_file):\n",
    "    \"\"\"Read data from HDF5 file.\"\"\"\n",
    "    try:\n",
    "        with h5py.File(input_file, 'r') as file:\n",
    "            data = file['L1C_AIRS_Science']\n",
    "\n",
    "            spec = data['Data Fields']['spectral_clear_indicator'][:].flatten()\n",
    "            lat = data['Geolocation Fields']['Latitude'][:].flatten()\n",
    "            lon = data['Geolocation Fields']['Longitude'][:].flatten()\n",
    "\n",
    "            data_array = np.column_stack((lat, lon, spec))\n",
    "            np.savetxt(output_file, data_array, delimiter=\"\\t\", fmt='%f')\n",
    "        \n",
    "    except FileNotFoundError:\n",
    "        print(\"File not found!\")\n",
    "\n",
    "    except Exception as e:\n",
    "        print(\"An error occurred:\", e)"
   ]
  },
  {
   "cell_type": "code",
   "execution_count": 21,
   "metadata": {},
   "outputs": [],
   "source": [
    "save_spec(\"/nuke/hzin/airs/tx_ok_ar_2014/airs_2014-12-31_198.h5\", '2014-12-31_198.txt')\n"
   ]
  },
  {
   "cell_type": "code",
   "execution_count": 22,
   "metadata": {},
   "outputs": [],
   "source": [
    "def main(filename):\n",
    "    \"\"\"Main function.\"\"\"\n",
    "    # Extracting directory path\n",
    "    directory = os.path.dirname(filename)\n",
    "    # Extracting file name without extension\n",
    "    file_name_without_extension = os.path.splitext(\n",
    "        os.path.basename(filename))[0]\n",
    "\n",
    "    # Constructing output file paths\n",
    "    output_file = f\"{directory}/{file_name_without_extension}.txt\"\n",
    "\n",
    "    # Save spectral data to text file\n",
    "    save_spec(filename, output_file)"
   ]
  },
  {
   "cell_type": "code",
   "execution_count": 23,
   "metadata": {},
   "outputs": [],
   "source": [
    "main('/nuke/hzin/airs/tx_ok_ar_2014/airs_2014-12-31_198.h5')"
   ]
  },
  {
   "cell_type": "code",
   "execution_count": null,
   "metadata": {},
   "outputs": [],
   "source": [
    "if __name__ == \"__main__\":\n",
    "    parser = argparse.ArgumentParser(\n",
    "        description=\"Process H5 data and save it to Parquet format.\")\n",
    "    parser.add_argument(\n",
    "        \"filename\", \n",
    "        help=\"Name of the H5 file.\")\n",
    "    args = parser.parse_args()\n",
    "    main(args.filename)"
   ]
  }
 ],
 "metadata": {
  "kernelspec": {
   "display_name": ".venv",
   "language": "python",
   "name": "python3"
  },
  "language_info": {
   "codemirror_mode": {
    "name": "ipython",
    "version": 3
   },
   "file_extension": ".py",
   "mimetype": "text/x-python",
   "name": "python",
   "nbconvert_exporter": "python",
   "pygments_lexer": "ipython3",
   "version": "3.9.18"
  }
 },
 "nbformat": 4,
 "nbformat_minor": 2
}
