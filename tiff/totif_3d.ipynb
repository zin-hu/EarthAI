{
 "cells": [
  {
   "cell_type": "code",
   "execution_count": 1,
   "metadata": {},
   "outputs": [],
   "source": [
    "import numpy as np\n",
    "import matplotlib.pyplot as plt\n",
    "from scipy.interpolate import griddata\n",
    "import tifffile\n",
    "import rasterio"
   ]
  },
  {
   "cell_type": "code",
   "execution_count": 6,
   "metadata": {},
   "outputs": [
    {
     "name": "stdout",
     "output_type": "stream",
     "text": [
      "(89521, 9)\n"
     ]
    }
   ],
   "source": [
    "data = np.loadtxt('/home/hzin/earthAI/logs/3d_140102.txt')\n",
    "print(data.shape)"
   ]
  },
  {
   "cell_type": "code",
   "execution_count": 7,
   "metadata": {},
   "outputs": [
    {
     "name": "stdout",
     "output_type": "stream",
     "text": [
      "20.000358595371228 41.99959794505977 -104.99896537745376 -85.00068646989837\n"
     ]
    }
   ],
   "source": [
    "lat, lon = data[:, 0], data[:, 1]\n",
    "min_lat = min(lat)\n",
    "max_lat = max(lat)\n",
    "min_lon = min(lon)\n",
    "max_lon = max(lon)\n",
    "print(min_lat, max_lat, min_lon, max_lon)"
   ]
  },
  {
   "cell_type": "code",
   "execution_count": 8,
   "metadata": {},
   "outputs": [],
   "source": [
    "resolution = 0.05\n",
    "grid_lat, grid_lon = np.meshgrid(\n",
    "    np.arange(min_lat, max_lat, resolution),\n",
    "    np.arange(min_lon, max_lon, resolution)\n",
    ")"
   ]
  },
  {
   "cell_type": "code",
   "execution_count": 22,
   "metadata": {},
   "outputs": [
    {
     "name": "stdout",
     "output_type": "stream",
     "text": [
      "(400, 440) (400, 440)\n"
     ]
    }
   ],
   "source": [
    "print(grid_lat.shape, grid_lon.shape)"
   ]
  },
  {
   "cell_type": "code",
   "execution_count": 17,
   "metadata": {},
   "outputs": [
    {
     "name": "stdout",
     "output_type": "stream",
     "text": [
      "(400, 440, 6) (400, 440, 6) (400, 440, 6)\n"
     ]
    }
   ],
   "source": [
    "d0 = griddata(\n",
    "        data[data[:, 8] == 0, :2],\n",
    "        data[data[:, 8] == 0, 2:8],\n",
    "        (grid_lat, grid_lon),\n",
    "        method='nearest'\n",
    "    )\n",
    "d1 = griddata(\n",
    "        data[data[:, 8] == 1, :2],\n",
    "        data[data[:, 8] == 1, 2:8],\n",
    "        (grid_lat, grid_lon),\n",
    "        method='nearest'\n",
    "    )\n",
    "d2 = griddata(\n",
    "        data[data[:, 8] == 2, :2],\n",
    "        data[data[:, 8] == 2, 2:8],\n",
    "        (grid_lat, grid_lon),\n",
    "        method='nearest'\n",
    "    )\n",
    "print(d0.shape, d1.shape, d2.shape)\n"
   ]
  },
  {
   "cell_type": "code",
   "execution_count": 23,
   "metadata": {},
   "outputs": [
    {
     "name": "stdout",
     "output_type": "stream",
     "text": [
      "(18, 400, 440)\n"
     ]
    }
   ],
   "source": [
    "d = np.concatenate((d0, d1, d2), axis=2).transpose(2, 0, 1)\n",
    "print(d.shape)"
   ]
  },
  {
   "cell_type": "code",
   "execution_count": 27,
   "metadata": {},
   "outputs": [
    {
     "name": "stdout",
     "output_type": "stream",
     "text": [
      "(18, 400, 440)\n"
     ]
    }
   ],
   "source": [
    "# Find the minimum and maximum values along the first three dimensions\n",
    "min_vals = np.min(d, axis=(1, 2), keepdims=True)\n",
    "max_vals = np.max(d, axis=(1, 2), keepdims=True)\n",
    "\n",
    "# Rescale the values\n",
    "rad_scaled = ((d - min_vals) / (max_vals - min_vals)) * 255\n",
    "\n",
    "# Convert rescaled values to integers\n",
    "rad_scaled = rad_scaled.astype(np.uint8)\n",
    "print(rad_scaled.shape)"
   ]
  },
  {
   "cell_type": "code",
   "execution_count": 35,
   "metadata": {},
   "outputs": [],
   "source": [
    "# Save the combined grid to a TIFF file\n",
    "output_tiff_file = \"140101_3d.tiff\"\n",
    "tifffile.imwrite(output_tiff_file, rad_scaled, photometric='rgb')"
   ]
  }
 ],
 "metadata": {
  "kernelspec": {
   "display_name": ".venv",
   "language": "python",
   "name": "python3"
  },
  "language_info": {
   "codemirror_mode": {
    "name": "ipython",
    "version": 3
   },
   "file_extension": ".py",
   "mimetype": "text/x-python",
   "name": "python",
   "nbconvert_exporter": "python",
   "pygments_lexer": "ipython3",
   "version": "3.9.18"
  }
 },
 "nbformat": 4,
 "nbformat_minor": 2
}
