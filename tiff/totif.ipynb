{
 "cells": [
  {
   "cell_type": "code",
   "execution_count": 1,
   "metadata": {},
   "outputs": [],
   "source": [
    "import numpy as np\n",
    "import matplotlib.pyplot as plt\n",
    "from scipy.interpolate import griddata\n",
    "import tifffile\n",
    "import rasterio"
   ]
  },
  {
   "cell_type": "code",
   "execution_count": 2,
   "metadata": {},
   "outputs": [],
   "source": [
    "def read_data(file_path):\n",
    "    latitudes = []\n",
    "    longitudes = []\n",
    "    swir2 = []\n",
    "    swir = []\n",
    "    nnir = []\n",
    "    red = []\n",
    "    green = []\n",
    "    blue = []\n",
    "    \n",
    "    with open(file_path, 'r') as file:\n",
    "        for line in file:\n",
    "            lat, lon, s2, s, n, r, g, b = map(float, line.split())\n",
    "            latitudes.append(lat)\n",
    "            longitudes.append(lon)\n",
    "            swir2.append(s2)\n",
    "            swir.append(s)\n",
    "            nnir.append(n)\n",
    "            red.append(r)\n",
    "            green.append(g)\n",
    "            blue.append(b)\n",
    "    \n",
    "    return latitudes, longitudes, swir2, swir, nnir, red, green, blue\n",
    "\n",
    "# File path containing the data\n",
    "file_path_01012015 = \"/home/hzin/earthAI/logs/140101.txt\"  # Change this to your file path\n",
    "\n",
    "# Read data from the file\n",
    "latitudes, longitudes, swir2, swir, nnir, red, green, blue = read_data(file_path_01012015)"
   ]
  },
  {
   "cell_type": "code",
   "execution_count": 3,
   "metadata": {},
   "outputs": [
    {
     "name": "stdout",
     "output_type": "stream",
     "text": [
      "(6, 440, 400)\n"
     ]
    }
   ],
   "source": [
    "# Define the grid boundaries and resolution\n",
    "min_lat = min(latitudes)\n",
    "max_lat = max(latitudes)\n",
    "min_lon = min(longitudes)\n",
    "max_lon = max(longitudes)\n",
    "resolution = 0.05  # Adjust as needed\n",
    "\n",
    "# Generate grid points\n",
    "grid_lat, grid_lon = np.meshgrid(\n",
    "    np.arange(min_lat, max_lat, resolution),\n",
    "    np.arange(min_lon, max_lon, resolution)\n",
    ")\n",
    "\n",
    "# Perform interpolation using inverse distance weighting\n",
    "interpolated_grids = []\n",
    "for var in [blue, green, red, nnir, swir, swir2]:\n",
    "    interpolated_grid = griddata(\n",
    "        (latitudes, longitudes),\n",
    "        var,\n",
    "        (grid_lat, grid_lon),\n",
    "        method='nearest'\n",
    "    )\n",
    "    interpolated_grids.append(interpolated_grid)\n",
    "\n",
    "combined_grid = np.stack(interpolated_grids, axis=-1).transpose(2, 1, 0)\n",
    "print(combined_grid.shape)\n",
    "\n"
   ]
  },
  {
   "cell_type": "markdown",
   "metadata": {},
   "source": [
    "Rescale"
   ]
  },
  {
   "cell_type": "code",
   "execution_count": 4,
   "metadata": {},
   "outputs": [],
   "source": [
    "# Find the minimum and maximum values along the first three dimensions\n",
    "min_vals = np.min(combined_grid, axis=(1, 2), keepdims=True)\n",
    "max_vals = np.max(combined_grid, axis=(1, 2), keepdims=True)\n",
    "\n",
    "# Rescale the values\n",
    "rad_scaled = ((combined_grid - min_vals) / (max_vals - min_vals)) * 255\n",
    "\n",
    "# Convert rescaled values to integers\n",
    "rad_scaled = rad_scaled.astype(np.uint8)"
   ]
  },
  {
   "cell_type": "code",
   "execution_count": 35,
   "metadata": {},
   "outputs": [],
   "source": [
    "# Save the combined grid to a TIFF file\n",
    "output_tiff_file = \"140101.tiff\"\n",
    "tifffile.imwrite(output_tiff_file, rad_scaled, photometric='rgb')\n"
   ]
  },
  {
   "cell_type": "code",
   "execution_count": 36,
   "metadata": {},
   "outputs": [
    {
     "name": "stdout",
     "output_type": "stream",
     "text": [
      "(6, 440, 400)\n"
     ]
    }
   ],
   "source": [
    "def load_raster(path, crop=None):\n",
    "    with rasterio.open(path) as src:\n",
    "        img = src.read()\n",
    "\n",
    "        # load first 6 bands\n",
    "        img = img[:6]\n",
    "    return img\n",
    "#input_data = load_raster(\"140101.tiff\")\n",
    "input_data = tifffile.imread(\"140101.tiff\")\n",
    "print(input_data.shape)"
   ]
  }
 ],
 "metadata": {
  "kernelspec": {
   "display_name": ".venv",
   "language": "python",
   "name": "python3"
  },
  "language_info": {
   "codemirror_mode": {
    "name": "ipython",
    "version": 3
   },
   "file_extension": ".py",
   "mimetype": "text/x-python",
   "name": "python",
   "nbconvert_exporter": "python",
   "pygments_lexer": "ipython3",
   "version": "3.9.18"
  }
 },
 "nbformat": 4,
 "nbformat_minor": 2
}
